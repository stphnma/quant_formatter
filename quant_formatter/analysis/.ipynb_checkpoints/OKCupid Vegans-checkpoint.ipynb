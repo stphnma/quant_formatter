{
 "cells": [
  {
   "cell_type": "markdown",
   "metadata": {},
   "source": [
    "## What make a Vegan?"
   ]
  },
  {
   "cell_type": "code",
   "execution_count": 2,
   "metadata": {
    "collapsed": false
   },
   "outputs": [
    {
     "data": {
      "text/plain": [
       "Index([u'age', u'body_type', u'diet', u'drinks', u'drugs', u'education',\n",
       "       u'essay0', u'essay1', u'essay2', u'essay3', u'essay4', u'essay5',\n",
       "       u'essay6', u'essay7', u'essay8', u'essay9', u'ethnicity', u'height',\n",
       "       u'income', u'job', u'last_online', u'location', u'offspring',\n",
       "       u'orientation', u'pets', u'religion', u'sex', u'sign', u'smokes',\n",
       "       u'speaks', u'status'],\n",
       "      dtype='object')"
      ]
     },
     "execution_count": 2,
     "metadata": {},
     "output_type": "execute_result"
    }
   ],
   "source": [
    "import pandas as pd\n",
    "df = pd.read_csv(\"/Users/stephenma/Desktop/okc_profiles.csv\")\n",
    "df.columns"
   ]
  },
  {
   "cell_type": "code",
   "execution_count": 4,
   "metadata": {
    "collapsed": false
   },
   "outputs": [
    {
     "data": {
      "text/plain": [
       "['strictly anything',\n",
       " 'mostly other',\n",
       " 'anything',\n",
       " 'vegetarian',\n",
       " nan,\n",
       " 'mostly anything',\n",
       " 'mostly vegetarian',\n",
       " 'strictly vegan',\n",
       " 'strictly vegetarian',\n",
       " 'mostly vegan',\n",
       " 'strictly other',\n",
       " 'mostly halal',\n",
       " 'other',\n",
       " 'vegan',\n",
       " 'mostly kosher',\n",
       " 'strictly halal',\n",
       " 'halal',\n",
       " 'strictly kosher',\n",
       " 'kosher']"
      ]
     },
     "execution_count": 4,
     "metadata": {},
     "output_type": "execute_result"
    }
   ],
   "source": [
    "list(df['diet'].unique())"
   ]
  },
  {
   "cell_type": "code",
   "execution_count": 5,
   "metadata": {
    "collapsed": true
   },
   "outputs": [],
   "source": [
    "vegans = df[df['diet'].apply(lambda x: x in ['mostly vegan','strictly vegan','vegan'])]\n",
    "not_vegan = df[df['diet'].apply(lambda x: x not in ['mostly vegan','strictly vegan','vegan'])]\n",
    "\n",
    "\n",
    "df['vegan'] = df['diet'].apply(lambda x: 'vegan' if x in ['mostly vegan','strictly vegan','vegan'] else \"not vegan\")"
   ]
  },
  {
   "cell_type": "code",
   "execution_count": 6,
   "metadata": {
    "collapsed": false
   },
   "outputs": [],
   "source": [
    "# vegans['body_type'].value_counts(normalize = True)"
   ]
  },
  {
   "cell_type": "code",
   "execution_count": 7,
   "metadata": {
    "collapsed": false
   },
   "outputs": [],
   "source": [
    "# sorted_body_types = ['thin','skinny', 'average', 'fit', 'athletic','jacked', 'curvy', \n",
    "#                      'a little extra', 'full figured', 'overweight',\n",
    "#                     'used up', 'rather not say']\n",
    "\n",
    "# body_types = pd.DataFrame(data=dict(not_vegan = not_vegan['body_type'].value_counts(normalize = True),\n",
    "#                                     vegan = vegans['body_type'].value_counts(normalize = True)), \n",
    "#                           index=vegans['body_type'].value_counts(normalize = True).index)\n",
    "# body_types.index = body_types.reset_index()['index'].astype('category').cat.reorder_categories(sorted_body_types, ordered=True)\n",
    "# body_types = body_types.sort()\n",
    "# body_types"
   ]
  },
  {
   "cell_type": "code",
   "execution_count": 9,
   "metadata": {
    "collapsed": false
   },
   "outputs": [
    {
     "name": "stdout",
     "output_type": "stream",
     "text": [
      "Populating the interactive namespace from numpy and matplotlib\n"
     ]
    }
   ],
   "source": [
    "%pylab inline\n",
    "import matplotlib\n",
    "matplotlib.style.use('ggplot')\n",
    "matplotlib.rcParams.update({'font.size': 14})"
   ]
  },
  {
   "cell_type": "code",
   "execution_count": null,
   "metadata": {
    "collapsed": false
   },
   "outputs": [],
   "source": [
    "drinks = pd.DataFrame(data=dict(not_vegan = not_vegan['drinks'].value_counts(normalize = True),\n",
    "                                    vegan = vegans['drinks'].value_counts(normalize = True)), \n",
    "                          index=vegans['drinks'].value_counts(normalize = True).index)\n",
    "ax = drinks.plot(kind = 'bar', figsize = [20,5], rot = -330, title = \"Drinking Habits of Vegans vs Non-Vegans\")\n",
    "plt.savefig(\"/Users/stephenma/Desktop/quant_format/quant_formatter/assets/vegan_drinking.png\")"
   ]
  },
  {
   "cell_type": "markdown",
   "metadata": {},
   "source": [
    "much less likely to drink socially"
   ]
  },
  {
   "cell_type": "code",
   "execution_count": null,
   "metadata": {
    "collapsed": false
   },
   "outputs": [],
   "source": [
    "drugs = pd.DataFrame(data=dict(not_vegan = not_vegan['drugs'].value_counts(normalize = True),\n",
    "                                    vegan = vegans['drugs'].value_counts(normalize = True)), \n",
    "                          index=vegans['drugs'].value_counts(normalize = True).index)\n",
    "drugs.plot(kind = 'bar', figsize = [20,5], rot = -330, title = \"Drug Habits of Vegans and Non-Vegans\")\n",
    "plt.savefig(\"/Users/stephenma/Desktop/quant_format/quant_formatter/assets/vegan_drug.png\")"
   ]
  },
  {
   "cell_type": "code",
   "execution_count": null,
   "metadata": {
    "collapsed": false
   },
   "outputs": [],
   "source": [
    "drugs_by_vegan_type = pd.DataFrame(data=dict(\n",
    "        mostly_vegan = vegans[vegans['diet'] == \"mostly vegan\"]['drugs'].value_counts(normalize = True),\n",
    "        strictly_vegan = vegans[vegans['diet'] == \"strictly vegan\"]['drugs'].value_counts(normalize = True),\n",
    "        vegan = vegans[vegans['diet'] == \"vegan\"]['drugs'].value_counts(normalize = True)\n",
    "        ))\n",
    "drugs_by_vegan_type.plot(kind = 'bar', figsize = [20,5], rot = -330, title = \"Drug Habits of Vegans (by Type)\")\n",
    "plt.savefig(\"/Users/stephenma/Desktop/quant_format/quant_formatter/assets/vegan_drug_type.png\")"
   ]
  }
 ],
 "metadata": {
  "kernelspec": {
   "display_name": "Python 2",
   "language": "python",
   "name": "python2"
  },
  "language_info": {
   "codemirror_mode": {
    "name": "ipython",
    "version": 2
   },
   "file_extension": ".py",
   "mimetype": "text/x-python",
   "name": "python",
   "nbconvert_exporter": "python",
   "pygments_lexer": "ipython2",
   "version": "2.7.9"
  }
 },
 "nbformat": 4,
 "nbformat_minor": 0
}
